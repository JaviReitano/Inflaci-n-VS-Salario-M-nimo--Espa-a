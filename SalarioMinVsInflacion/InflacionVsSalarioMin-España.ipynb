{
 "cells": [
  {
   "cell_type": "markdown",
   "id": "77732fdb-a0ee-4699-9f37-f57e1f8a1726",
   "metadata": {},
   "source": [
    "# Análisis comparativo: Inflación vs Salario Mínimo en España\n",
    "Este análisis estudia la evolución de la inflación y el salario mínimo mensual en España entre los años 1999 y Junio de 2025."
   ]
  },
  {
   "cell_type": "code",
   "execution_count": 9,
   "id": "3079eab0-3fd0-4a47-a024-b0a7e4f1aa7f",
   "metadata": {},
   "outputs": [],
   "source": [
    "#Importacion de librerias\n",
    "import pandas as pd\n",
    "import matplotlib.pyplot as plt\n",
    "import seaborn as sns\n",
    "import plotly.graph_objects as go\n",
    "import numpy as np"
   ]
  },
  {
   "cell_type": "code",
   "execution_count": 4,
   "id": "c45f6a5d-769b-48bc-8e2a-ec8777834002",
   "metadata": {},
   "outputs": [],
   "source": [
    "#Carga de archivos\n",
    "ruta= r\"C:\\\\Users\\\\Usuario\\\\Desktop\\\\Curso Titularizado Python\\\\Practica ChatGPT\\\\Repositorio3\"\n",
    "\n",
    "pdatos1= pd.read_csv(ruta + \"\\\\ECB Data Portal_20250731105611.csv\", encoding=\"UTF-8\")\n",
    "\n",
    "pdatos2= pd.read_csv(ruta + \"\\\\estat_earn_mw_cur_en.csv\", encoding= \"UTF-8\")\n",
    "\n",
    "#Creacion de DataFrame\n",
    "datosInflacion = pd.DataFrame(pdatos1)\n",
    "\n",
    "datosSalarioMin = pd.DataFrame(pdatos2)\n"
   ]
  },
  {
   "cell_type": "code",
   "execution_count": 5,
   "id": "7550076a-7e5b-4d2f-a812-82548f86cc72",
   "metadata": {},
   "outputs": [],
   "source": [
    "#Procesamiento de datos\n",
    "#Filtrar informacion de salario minimo\n",
    "#Filtrar España y preparar columnas.\n",
    "\n",
    "df_smi = datosSalarioMin [datosSalarioMin['geo'] == 'ES'].copy()\n",
    "df_smi['year']= df_smi['TIME_PERIOD'].str.slice(0,4).astype(int)\n",
    "df_smi['smi_mensual'] = df_smi['OBS_VALUE'].astype(float)\n",
    "\n",
    "# Promedio por año de S1 y S2\n",
    "df_smi = df_smi.groupby('year')['smi_mensual'].mean().reset_index()\n",
    "\n",
    "\n",
    "#Filtrar datos de la inflacion\n",
    "# Extraer el año desde TIME_PERIOD, ej: '1996Jan' → '1996'\n",
    "datosInflacion['year'] = datosInflacion['TIME PERIOD'].str.slice(0, 4).astype(int)\n",
    "datosInflacion['inflacion_anual'] = datosInflacion['HICP - Overall index\" (ICP.M.ES.N.000000.4.ANR)'].astype(float)\n",
    "\n",
    "# Agrupar por año y calcular el promedio (promedio anual de inflación)\n",
    "df_inflacion = datosInflacion.groupby('year')['inflacion_anual'].mean().reset_index()"
   ]
  },
  {
   "cell_type": "code",
   "execution_count": 6,
   "id": "4a355ac2-59e5-4e23-bec4-bb852791d6c5",
   "metadata": {},
   "outputs": [
    {
     "name": "stdout",
     "output_type": "stream",
     "text": [
      "   year  inflacion_anual  smi_mensual\n",
      "0  1999         2.216667   502.333333\n",
      "1  2000         3.475000   513.000000\n",
      "2  2001         2.833333   523.666667\n",
      "3  2002         3.575000   536.000000\n",
      "4  2003         3.116667   543.000000\n"
     ]
    }
   ],
   "source": [
    "# Unir salario mínimo + inflación por año\n",
    "df_merged = pd.merge(df_inflacion, df_smi, on='year', how='inner')\n",
    "print(df_merged.head())"
   ]
  },
  {
   "cell_type": "code",
   "execution_count": 7,
   "id": "e202273a-d9fd-4d2d-aefc-1c10b61f0cd7",
   "metadata": {},
   "outputs": [
    {
     "data": {
      "application/vnd.plotly.v1+json": {
       "config": {
        "plotlyServerURL": "https://plot.ly"
       },
       "data": [
        {
         "mode": "lines+markers",
         "name": "Salario Mínimo (€)",
         "type": "scatter",
         "x": {
          "bdata": "zwfQB9EH0gfTB9QH1QfWB9cH2AfZB9oH2wfcB90H3gffB+AH4QfiB+MH5AflB+YH5wfoB+kH",
          "dtype": "i2"
         },
         "y": {
          "bdata": "VVVVVVVlf0AAAAAAAAiAQFVVVVVVXYBAAAAAAADAgEAAAAAAAPiAQKuqqqqquoFAAAAAAAAgg0AAAAAAACCEQKuqqqqqEoVAq6qqqqoahkCrqqqqqtKGQFVVVVVVHYdAq6qqqqpih0AAAAAAAHCHQFVVVVVVvYdAVVVVVVXVh0BVVVVVVRWIQFVVVVVVRYhAq6qqqqpKikBVVVVVVS2LQKuqqqqqopBAVVVVVVVxkUCrqqqqqqaRQFVVVVVVUZJAq6qqqqqUk0BVVVVVVVmVQFVVVVVVSZZA",
          "dtype": "f8"
         }
        },
        {
         "mode": "lines+markers",
         "name": "Inflación (%)",
         "type": "scatter",
         "x": {
          "bdata": "zwfQB9EH0gfTB9QH1QfWB9cH2AfZB9oH2wfcB90H3gffB+AH4QfiB+MH5AflB+YH5wfoB+kH",
          "dtype": "i2"
         },
         "y": {
          "bdata": "vLu7u7u7AUDNzMzMzMwLQKuqqqqqqgZAmZmZmZmZDEDv7u7u7u4IQFVVVVVVVQhAERERERERC0CZmZmZmZkMQIiIiIiIiAZAERERERGREEDw7u7u7u7Ov3d3d3d3dwBAVVVVVVVVCECJiIiIiIgDQIiIiIiIiPg/iYiIiIiIyL8AAAAAAADkv2dmZmZmZta/REREREREAECZmZmZmZn7P4mIiIiIiOg/VVVVVVVV1b8REREREREIQO/u7u7uriBAeHd3d3d3C0AAAAAAAAAHQFVVVVVVVQNA",
          "dtype": "f8"
         },
         "yaxis": "y2"
        }
       ],
       "layout": {
        "height": 500,
        "legend": {
         "x": 0.01,
         "y": 0.99
        },
        "template": {
         "data": {
          "bar": [
           {
            "error_x": {
             "color": "#2a3f5f"
            },
            "error_y": {
             "color": "#2a3f5f"
            },
            "marker": {
             "line": {
              "color": "#E5ECF6",
              "width": 0.5
             },
             "pattern": {
              "fillmode": "overlay",
              "size": 10,
              "solidity": 0.2
             }
            },
            "type": "bar"
           }
          ],
          "barpolar": [
           {
            "marker": {
             "line": {
              "color": "#E5ECF6",
              "width": 0.5
             },
             "pattern": {
              "fillmode": "overlay",
              "size": 10,
              "solidity": 0.2
             }
            },
            "type": "barpolar"
           }
          ],
          "carpet": [
           {
            "aaxis": {
             "endlinecolor": "#2a3f5f",
             "gridcolor": "white",
             "linecolor": "white",
             "minorgridcolor": "white",
             "startlinecolor": "#2a3f5f"
            },
            "baxis": {
             "endlinecolor": "#2a3f5f",
             "gridcolor": "white",
             "linecolor": "white",
             "minorgridcolor": "white",
             "startlinecolor": "#2a3f5f"
            },
            "type": "carpet"
           }
          ],
          "choropleth": [
           {
            "colorbar": {
             "outlinewidth": 0,
             "ticks": ""
            },
            "type": "choropleth"
           }
          ],
          "contour": [
           {
            "colorbar": {
             "outlinewidth": 0,
             "ticks": ""
            },
            "colorscale": [
             [
              0,
              "#0d0887"
             ],
             [
              0.1111111111111111,
              "#46039f"
             ],
             [
              0.2222222222222222,
              "#7201a8"
             ],
             [
              0.3333333333333333,
              "#9c179e"
             ],
             [
              0.4444444444444444,
              "#bd3786"
             ],
             [
              0.5555555555555556,
              "#d8576b"
             ],
             [
              0.6666666666666666,
              "#ed7953"
             ],
             [
              0.7777777777777778,
              "#fb9f3a"
             ],
             [
              0.8888888888888888,
              "#fdca26"
             ],
             [
              1,
              "#f0f921"
             ]
            ],
            "type": "contour"
           }
          ],
          "contourcarpet": [
           {
            "colorbar": {
             "outlinewidth": 0,
             "ticks": ""
            },
            "type": "contourcarpet"
           }
          ],
          "heatmap": [
           {
            "colorbar": {
             "outlinewidth": 0,
             "ticks": ""
            },
            "colorscale": [
             [
              0,
              "#0d0887"
             ],
             [
              0.1111111111111111,
              "#46039f"
             ],
             [
              0.2222222222222222,
              "#7201a8"
             ],
             [
              0.3333333333333333,
              "#9c179e"
             ],
             [
              0.4444444444444444,
              "#bd3786"
             ],
             [
              0.5555555555555556,
              "#d8576b"
             ],
             [
              0.6666666666666666,
              "#ed7953"
             ],
             [
              0.7777777777777778,
              "#fb9f3a"
             ],
             [
              0.8888888888888888,
              "#fdca26"
             ],
             [
              1,
              "#f0f921"
             ]
            ],
            "type": "heatmap"
           }
          ],
          "histogram": [
           {
            "marker": {
             "pattern": {
              "fillmode": "overlay",
              "size": 10,
              "solidity": 0.2
             }
            },
            "type": "histogram"
           }
          ],
          "histogram2d": [
           {
            "colorbar": {
             "outlinewidth": 0,
             "ticks": ""
            },
            "colorscale": [
             [
              0,
              "#0d0887"
             ],
             [
              0.1111111111111111,
              "#46039f"
             ],
             [
              0.2222222222222222,
              "#7201a8"
             ],
             [
              0.3333333333333333,
              "#9c179e"
             ],
             [
              0.4444444444444444,
              "#bd3786"
             ],
             [
              0.5555555555555556,
              "#d8576b"
             ],
             [
              0.6666666666666666,
              "#ed7953"
             ],
             [
              0.7777777777777778,
              "#fb9f3a"
             ],
             [
              0.8888888888888888,
              "#fdca26"
             ],
             [
              1,
              "#f0f921"
             ]
            ],
            "type": "histogram2d"
           }
          ],
          "histogram2dcontour": [
           {
            "colorbar": {
             "outlinewidth": 0,
             "ticks": ""
            },
            "colorscale": [
             [
              0,
              "#0d0887"
             ],
             [
              0.1111111111111111,
              "#46039f"
             ],
             [
              0.2222222222222222,
              "#7201a8"
             ],
             [
              0.3333333333333333,
              "#9c179e"
             ],
             [
              0.4444444444444444,
              "#bd3786"
             ],
             [
              0.5555555555555556,
              "#d8576b"
             ],
             [
              0.6666666666666666,
              "#ed7953"
             ],
             [
              0.7777777777777778,
              "#fb9f3a"
             ],
             [
              0.8888888888888888,
              "#fdca26"
             ],
             [
              1,
              "#f0f921"
             ]
            ],
            "type": "histogram2dcontour"
           }
          ],
          "mesh3d": [
           {
            "colorbar": {
             "outlinewidth": 0,
             "ticks": ""
            },
            "type": "mesh3d"
           }
          ],
          "parcoords": [
           {
            "line": {
             "colorbar": {
              "outlinewidth": 0,
              "ticks": ""
             }
            },
            "type": "parcoords"
           }
          ],
          "pie": [
           {
            "automargin": true,
            "type": "pie"
           }
          ],
          "scatter": [
           {
            "fillpattern": {
             "fillmode": "overlay",
             "size": 10,
             "solidity": 0.2
            },
            "type": "scatter"
           }
          ],
          "scatter3d": [
           {
            "line": {
             "colorbar": {
              "outlinewidth": 0,
              "ticks": ""
             }
            },
            "marker": {
             "colorbar": {
              "outlinewidth": 0,
              "ticks": ""
             }
            },
            "type": "scatter3d"
           }
          ],
          "scattercarpet": [
           {
            "marker": {
             "colorbar": {
              "outlinewidth": 0,
              "ticks": ""
             }
            },
            "type": "scattercarpet"
           }
          ],
          "scattergeo": [
           {
            "marker": {
             "colorbar": {
              "outlinewidth": 0,
              "ticks": ""
             }
            },
            "type": "scattergeo"
           }
          ],
          "scattergl": [
           {
            "marker": {
             "colorbar": {
              "outlinewidth": 0,
              "ticks": ""
             }
            },
            "type": "scattergl"
           }
          ],
          "scattermap": [
           {
            "marker": {
             "colorbar": {
              "outlinewidth": 0,
              "ticks": ""
             }
            },
            "type": "scattermap"
           }
          ],
          "scattermapbox": [
           {
            "marker": {
             "colorbar": {
              "outlinewidth": 0,
              "ticks": ""
             }
            },
            "type": "scattermapbox"
           }
          ],
          "scatterpolar": [
           {
            "marker": {
             "colorbar": {
              "outlinewidth": 0,
              "ticks": ""
             }
            },
            "type": "scatterpolar"
           }
          ],
          "scatterpolargl": [
           {
            "marker": {
             "colorbar": {
              "outlinewidth": 0,
              "ticks": ""
             }
            },
            "type": "scatterpolargl"
           }
          ],
          "scatterternary": [
           {
            "marker": {
             "colorbar": {
              "outlinewidth": 0,
              "ticks": ""
             }
            },
            "type": "scatterternary"
           }
          ],
          "surface": [
           {
            "colorbar": {
             "outlinewidth": 0,
             "ticks": ""
            },
            "colorscale": [
             [
              0,
              "#0d0887"
             ],
             [
              0.1111111111111111,
              "#46039f"
             ],
             [
              0.2222222222222222,
              "#7201a8"
             ],
             [
              0.3333333333333333,
              "#9c179e"
             ],
             [
              0.4444444444444444,
              "#bd3786"
             ],
             [
              0.5555555555555556,
              "#d8576b"
             ],
             [
              0.6666666666666666,
              "#ed7953"
             ],
             [
              0.7777777777777778,
              "#fb9f3a"
             ],
             [
              0.8888888888888888,
              "#fdca26"
             ],
             [
              1,
              "#f0f921"
             ]
            ],
            "type": "surface"
           }
          ],
          "table": [
           {
            "cells": {
             "fill": {
              "color": "#EBF0F8"
             },
             "line": {
              "color": "white"
             }
            },
            "header": {
             "fill": {
              "color": "#C8D4E3"
             },
             "line": {
              "color": "white"
             }
            },
            "type": "table"
           }
          ]
         },
         "layout": {
          "annotationdefaults": {
           "arrowcolor": "#2a3f5f",
           "arrowhead": 0,
           "arrowwidth": 1
          },
          "autotypenumbers": "strict",
          "coloraxis": {
           "colorbar": {
            "outlinewidth": 0,
            "ticks": ""
           }
          },
          "colorscale": {
           "diverging": [
            [
             0,
             "#8e0152"
            ],
            [
             0.1,
             "#c51b7d"
            ],
            [
             0.2,
             "#de77ae"
            ],
            [
             0.3,
             "#f1b6da"
            ],
            [
             0.4,
             "#fde0ef"
            ],
            [
             0.5,
             "#f7f7f7"
            ],
            [
             0.6,
             "#e6f5d0"
            ],
            [
             0.7,
             "#b8e186"
            ],
            [
             0.8,
             "#7fbc41"
            ],
            [
             0.9,
             "#4d9221"
            ],
            [
             1,
             "#276419"
            ]
           ],
           "sequential": [
            [
             0,
             "#0d0887"
            ],
            [
             0.1111111111111111,
             "#46039f"
            ],
            [
             0.2222222222222222,
             "#7201a8"
            ],
            [
             0.3333333333333333,
             "#9c179e"
            ],
            [
             0.4444444444444444,
             "#bd3786"
            ],
            [
             0.5555555555555556,
             "#d8576b"
            ],
            [
             0.6666666666666666,
             "#ed7953"
            ],
            [
             0.7777777777777778,
             "#fb9f3a"
            ],
            [
             0.8888888888888888,
             "#fdca26"
            ],
            [
             1,
             "#f0f921"
            ]
           ],
           "sequentialminus": [
            [
             0,
             "#0d0887"
            ],
            [
             0.1111111111111111,
             "#46039f"
            ],
            [
             0.2222222222222222,
             "#7201a8"
            ],
            [
             0.3333333333333333,
             "#9c179e"
            ],
            [
             0.4444444444444444,
             "#bd3786"
            ],
            [
             0.5555555555555556,
             "#d8576b"
            ],
            [
             0.6666666666666666,
             "#ed7953"
            ],
            [
             0.7777777777777778,
             "#fb9f3a"
            ],
            [
             0.8888888888888888,
             "#fdca26"
            ],
            [
             1,
             "#f0f921"
            ]
           ]
          },
          "colorway": [
           "#636efa",
           "#EF553B",
           "#00cc96",
           "#ab63fa",
           "#FFA15A",
           "#19d3f3",
           "#FF6692",
           "#B6E880",
           "#FF97FF",
           "#FECB52"
          ],
          "font": {
           "color": "#2a3f5f"
          },
          "geo": {
           "bgcolor": "white",
           "lakecolor": "white",
           "landcolor": "#E5ECF6",
           "showlakes": true,
           "showland": true,
           "subunitcolor": "white"
          },
          "hoverlabel": {
           "align": "left"
          },
          "hovermode": "closest",
          "mapbox": {
           "style": "light"
          },
          "paper_bgcolor": "white",
          "plot_bgcolor": "#E5ECF6",
          "polar": {
           "angularaxis": {
            "gridcolor": "white",
            "linecolor": "white",
            "ticks": ""
           },
           "bgcolor": "#E5ECF6",
           "radialaxis": {
            "gridcolor": "white",
            "linecolor": "white",
            "ticks": ""
           }
          },
          "scene": {
           "xaxis": {
            "backgroundcolor": "#E5ECF6",
            "gridcolor": "white",
            "gridwidth": 2,
            "linecolor": "white",
            "showbackground": true,
            "ticks": "",
            "zerolinecolor": "white"
           },
           "yaxis": {
            "backgroundcolor": "#E5ECF6",
            "gridcolor": "white",
            "gridwidth": 2,
            "linecolor": "white",
            "showbackground": true,
            "ticks": "",
            "zerolinecolor": "white"
           },
           "zaxis": {
            "backgroundcolor": "#E5ECF6",
            "gridcolor": "white",
            "gridwidth": 2,
            "linecolor": "white",
            "showbackground": true,
            "ticks": "",
            "zerolinecolor": "white"
           }
          },
          "shapedefaults": {
           "line": {
            "color": "#2a3f5f"
           }
          },
          "ternary": {
           "aaxis": {
            "gridcolor": "white",
            "linecolor": "white",
            "ticks": ""
           },
           "baxis": {
            "gridcolor": "white",
            "linecolor": "white",
            "ticks": ""
           },
           "bgcolor": "#E5ECF6",
           "caxis": {
            "gridcolor": "white",
            "linecolor": "white",
            "ticks": ""
           }
          },
          "title": {
           "x": 0.05
          },
          "xaxis": {
           "automargin": true,
           "gridcolor": "white",
           "linecolor": "white",
           "ticks": "",
           "title": {
            "standoff": 15
           },
           "zerolinecolor": "white",
           "zerolinewidth": 2
          },
          "yaxis": {
           "automargin": true,
           "gridcolor": "white",
           "linecolor": "white",
           "ticks": "",
           "title": {
            "standoff": 15
           },
           "zerolinecolor": "white",
           "zerolinewidth": 2
          }
         }
        },
        "title": {
         "text": "Evolución del Salario Mínimo y la Inflación en España"
        },
        "width": 900,
        "xaxis": {
         "title": {
          "text": "Año"
         }
        },
        "yaxis": {
         "title": {
          "text": "Salario Mínimo (€)"
         }
        },
        "yaxis2": {
         "overlaying": "y",
         "side": "right",
         "title": {
          "text": "Inflación (%)"
         }
        }
       }
      },
      "image/png": "[encoded data removed]"
     },
     "metadata": {},
     "output_type": "display_data"
    }
   ],
   "source": [
    "fig = go.Figure()\n",
    "\n",
    "# Línea del salario mínimo\n",
    "fig.add_trace(go.Scatter(\n",
    "    x=df_merged['year'], y=df_merged['smi_mensual'],\n",
    "    mode='lines+markers',\n",
    "    name='Salario Mínimo (€)'\n",
    "))\n",
    "\n",
    "# Línea de inflación\n",
    "fig.add_trace(go.Scatter(\n",
    "    x=df_merged['year'], y=df_merged['inflacion_anual'],\n",
    "    mode='lines+markers',\n",
    "    name='Inflación (%)',\n",
    "    yaxis='y2'\n",
    "))\n",
    "\n",
    "# Configuración de ejes\n",
    "fig.update_layout(\n",
    "    title='Evolución del Salario Mínimo y la Inflación en España',\n",
    "    xaxis=dict(title='Año'),\n",
    "    yaxis=dict(title='Salario Mínimo (€)'),\n",
    "    yaxis2=dict(\n",
    "        title='Inflación (%)',\n",
    "        overlaying='y',\n",
    "        side='right'\n",
    "    ),\n",
    "    legend=dict(x=0.01, y=0.99),\n",
    "    width=900,\n",
    "    height=500\n",
    ")\n",
    "\n",
    "fig.show()"
   ]
  },
  {
   "cell_type": "markdown",
   "id": "18a2a48f-516a-45cc-b40d-d8eefe0636c7",
   "metadata": {},
   "source": [
    "✍️ **Análisis descriptivo de la evolución**\n",
    "\n",
    "Al observar la evolución del salario mínimo mensual y la inflación anual en España durante el período analizado (1999–2025), se identifican varios patrones relevantes.\n",
    "\n",
    "En términos generales, el salario mínimo muestra una tendencia creciente sostenida, con incrementos particularmente destacados en determinados años. **Uno de los más relevantes fue en 2019**, cuando el salario mínimo aumentó un 22,42% respecto al año anterior (de 869,66 € a 1064,67 €), frente a una inflación anual de apenas 0,77%. Este salto representa un ajuste salarial significativo en términos reales.\n",
    "\n",
    "La inflación, por su parte, presenta una evolución más volátil, con años de crecimiento moderado, seguidos por períodos de deflación o subas abruptas.\n",
    "\n",
    "**A partir de 2019**, se observa una política salarial más activa, con incrementos del salario mínimo que superan ampliamente el ritmo inflacionario, lo cual sugiere una intención de mejorar el poder adquisitivo de los trabajadores con ingresos más bajos.\n",
    "\n",
    "Sin embargo, en años como **2022**, esta tendencia se revierte parcialmente: la inflación alcanzó un 8,34%, superando el aumento del salario mínimo, lo que refleja una posible pérdida de poder adquisitivo, quizás influenciada por factores macroeconómicos globales como la pospandemia y la crisis energética.\n",
    "\n",
    "**En los años más recientes**, la brecha entre inflación y salario mínimo tiende a estabilizarse, aunque la inflación elevada podría haber erosionado parte del efecto positivo de los aumentos salariales. Será clave seguir monitoreando esta relación para evaluar si los incrementos nominales realmente se traducen en mejoras del ingreso real."
   ]
  },
  {
   "cell_type": "markdown",
   "id": "54f2f6e4-fc6f-4f0f-a9a8-acad074f4cb8",
   "metadata": {},
   "source": [
    "# Evolución porcentual del aumento de la inflación vs el salario minimo"
   ]
  },
  {
   "cell_type": "code",
   "execution_count": 8,
   "id": "443b2b48-c5b1-4566-b37d-45749d09a5df",
   "metadata": {},
   "outputs": [
    {
     "name": "stdout",
     "output_type": "stream",
     "text": [
      "   year  smi_mensual  aumento_smi_pct  inflacion_anual\n",
      "0  1999       502.33              NaN             2.22\n",
      "1  2000       513.00             2.12             3.48\n",
      "2  2001       523.67             2.08             2.83\n",
      "3  2002       536.00             2.36             3.58\n",
      "4  2003       543.00             1.31             3.12\n",
      "5  2004       567.33             4.48             3.04\n",
      "6  2005       612.00             7.87             3.38\n",
      "7  2006       644.00             5.23             3.58\n",
      "8  2007       674.33             4.71             2.82\n",
      "9  2008       707.33             4.89             4.14\n"
     ]
    }
   ],
   "source": [
    "# Creamos copia de DataFrame\n",
    "df_comparativo = df_merged.copy()\n",
    "\n",
    "# Calculo del aumento porcentual del salario mínimo respecto al año anterior\n",
    "df_comparativo['aumento_smi_pct'] = df_comparativo['smi_mensual'].pct_change() * 100\n",
    "\n",
    "# Redondeo de los valores para presentación\n",
    "df_comparativo['aumento_smi_pct'] = df_comparativo['aumento_smi_pct'].round(2)\n",
    "df_comparativo['inflacion_anual'] = df_comparativo['inflacion_anual'].round(2)\n",
    "df_comparativo['smi_mensual'] = df_comparativo['smi_mensual'].round(2)\n",
    "\n",
    "# Reordeo de columnas\n",
    "df_comparativo = df_comparativo[['year', 'smi_mensual', 'aumento_smi_pct', 'inflacion_anual']]\n",
    "\n",
    "# Resultado de la tabla\n",
    "print(df_comparativo.head(10))"
   ]
  },
  {
   "cell_type": "code",
   "execution_count": 10,
   "id": "d2b36167-9324-4660-afe4-646ddb6fedec",
   "metadata": {},
   "outputs": [
    {
     "data": {
      "image/png": "[encoded data removed]",
      "text/plain": [
       "<Figure size 1200x600 with 1 Axes>"
      ]
     },
     "metadata": {},
     "output_type": "display_data"
    }
   ],
   "source": [
    "# Filtramos desde el segundo año (porque el primer año tiene NaN)\n",
    "df_plot = df_comparativo.dropna()\n",
    "\n",
    "# Posiciones para el eje X\n",
    "x = np.arange(len(df_plot['year']))\n",
    "width = 0.35  # ancho de cada barra\n",
    "\n",
    "# Crear el gráfico\n",
    "plt.figure(figsize=(12, 6))\n",
    "plt.bar(x - width/2, df_plot['aumento_smi_pct'], width, label='Aumento SMI (%)')\n",
    "plt.bar(x + width/2, df_plot['inflacion_anual'], width, label='Inflación (%)')\n",
    "\n",
    "# Etiquetas y formato\n",
    "plt.xlabel('Año')\n",
    "plt.ylabel('Porcentaje (%)')\n",
    "plt.title('Comparación: Aumento del Salario Mínimo vs. Inflación')\n",
    "plt.xticks(x, df_plot['year'], rotation=45)\n",
    "plt.legend()\n",
    "plt.tight_layout()\n",
    "plt.grid(axis='y', linestyle='--', alpha=0.5)\n",
    "plt.show()"
   ]
  },
  {
   "cell_type": "markdown",
   "id": "0b5fb06c-8f06-42eb-ac57-75e48003a27a",
   "metadata": {},
   "source": [
    "**Total acumulado en el periodo**"
   ]
  },
  {
   "cell_type": "code",
   "execution_count": 14,
   "id": "0336cbde-e4ad-41be-8cb8-a83f9dd3840a",
   "metadata": {},
   "outputs": [
    {
     "name": "stdout",
     "output_type": "stream",
     "text": [
      "Aumento total del salario mínimo (1999–2025): 183.94%\n",
      "Inflación acumulada en el período: 87.69%\n"
     ]
    }
   ],
   "source": [
    "# Paso 1: Aumento acumulado del salario mínimo\n",
    "smi_inicio = df_comparativo['smi_mensual'].iloc[0]\n",
    "smi_fin = df_comparativo['smi_mensual'].iloc[-1]\n",
    "aumento_smi_total = ((smi_fin - smi_inicio) / smi_inicio) * 100\n",
    "\n",
    "# Paso 2: Inflación acumulada compuesta\n",
    "inflacion_factor = (1 + df_comparativo['inflacion_anual'] / 100).prod()\n",
    "inflacion_total = (inflacion_factor - 1) * 100\n",
    "\n",
    "# Mostrar resultados\n",
    "print(f\"Aumento total del salario mínimo (1999–2025): {aumento_smi_total:.2f}%\")\n",
    "print(f\"Inflación acumulada en el período: {inflacion_total:.2f}%\")"
   ]
  },
  {
   "cell_type": "markdown",
   "id": "8150f42f-1759-4b66-8c9c-425960ea8f17",
   "metadata": {},
   "source": [
    "✅ **Conclusión del total acumulado en el periodo:**\n",
    "\n",
    "Evolución acumulada (1999–2025):\n",
    "\n",
    "- Salario mínimo mensual: +183,94%\n",
    "\n",
    "- Inflación acumulada: +87,69%\n",
    "\n",
    "Este resultado indica que el salario mínimo le ganó ampliamente a la inflación en el período analizado. En términos reales, esto representa un aumento del poder adquisitivo de los trabajadores que perciben el salario mínimo, duplicando prácticamente el nivel de precios acumulado desde 1999.\n",
    "\n",
    "Si bien hubo años con pérdidas puntuales de poder adquisitivo (como 2022), la tendencia general muestra un fortalecimiento sostenido del salario mínimo real en España, impulsado especialmente por las políticas salariales implementadas a partir de 2019."
   ]
  },
  {
   "cell_type": "markdown",
   "id": "7b3931a1-826a-4783-9abf-3363a1299021",
   "metadata": {},
   "source": [
    "# Calculo del salario mínimo real"
   ]
  },
  {
   "cell_type": "code",
   "execution_count": 11,
   "id": "cd7f18a0-e5a9-4509-8728-be3fe968e789",
   "metadata": {},
   "outputs": [
    {
     "name": "stdout",
     "output_type": "stream",
     "text": [
      "   year  smi_mensual  smi_real\n",
      "0  1999       502.33    502.33\n",
      "1  2000       513.00    495.75\n",
      "2  2001       523.67    492.13\n",
      "3  2002       536.00    486.31\n",
      "4  2003       543.00    477.75\n",
      "5  2004       567.33    484.43\n",
      "6  2005       612.00    505.49\n",
      "7  2006       644.00    513.54\n",
      "8  2007       674.33    522.98\n",
      "9  2008       707.33    526.76\n"
     ]
    }
   ],
   "source": [
    "#Hacemos una copia de trabajo\n",
    "df_real = df_comparativo.copy()\n",
    "\n",
    "# Indice de precios acumulado con base 1999 = 100\n",
    "# Convertir LA inflación anual a factor multiplicativo\n",
    "df_real['inflacion_factor'] = 1 + (df_real['inflacion_anual'] / 100)\n",
    "\n",
    "# Calculo del índice de precios acumulado año a año\n",
    "df_real['indice_precios'] = df_real['inflacion_factor'].cumprod()\n",
    "\n",
    "# Normalización del índice para que el año base (1999) sea 100\n",
    "df_real['indice_precios'] = (df_real['indice_precios'] / df_real['indice_precios'].iloc[0]) * 100\n",
    "\n",
    "# Calcular salario mínimo real\n",
    "df_real['smi_real'] = df_real['smi_mensual'] / (df_real['indice_precios'] / 100)\n",
    "\n",
    "# Redondear columnas clave\n",
    "df_real[['smi_mensual', 'smi_real']] = df_real[['smi_mensual', 'smi_real']].round(2)\n",
    "\n",
    "# Mostrar ejemplo\n",
    "print(df_real[['year', 'smi_mensual', 'smi_real']].head(10))"
   ]
  },
  {
   "cell_type": "code",
   "execution_count": 12,
   "id": "6f97b368-95cb-4150-b685-d2237db695fc",
   "metadata": {},
   "outputs": [
    {
     "data": {
      "image/png": "[encoded data removed]",
      "text/plain": [
       "<Figure size 1200x600 with 1 Axes>"
      ]
     },
     "metadata": {},
     "output_type": "display_data"
    }
   ],
   "source": [
    "plt.figure(figsize=(12, 6))\n",
    "\n",
    "# Línea del salario nominal\n",
    "plt.plot(df_real['year'], df_real['smi_mensual'], marker='o', label='SMI Nominal (€)', linewidth=2)\n",
    "\n",
    "# Línea del salario real\n",
    "plt.plot(df_real['year'], df_real['smi_real'], marker='o', label='SMI Real (€ ajustado por inflación)', linewidth=2)\n",
    "\n",
    "# Etiquetas y título\n",
    "plt.title('Evolución del Salario Mínimo en España: Nominal vs Real (1999–2025)', fontsize=14)\n",
    "plt.xlabel('Año')\n",
    "plt.ylabel('Euros (€)')\n",
    "plt.legend()\n",
    "plt.grid(True, linestyle='--', alpha=0.5)\n",
    "plt.tight_layout()\n",
    "plt.xticks(rotation=45)\n",
    "plt.show()"
   ]
  },
  {
   "cell_type": "markdown",
   "id": "61b9fcd2-c4ec-462a-bbb3-0e076378562c",
   "metadata": {},
   "source": [
    "**Conclusión del gráfico: Salario Mínimo Real vs Nominal**\n",
    "\n",
    "El gráfico permite visualizar la evolución del salario mínimo en España tanto en términos nominales como reales (ajustado por inflación) entre los años 1999 y 2025.\n",
    "\n",
    "A lo largo del período, se observa una tendencia creciente sostenida del salario mínimo nominal, con saltos importantes en años recientes, especialmente a partir de 2019.\n",
    "\n",
    "En contraste, el salario mínimo real —es decir, el poder adquisitivo efectivo del salario— muestra un crecimiento más moderado y menos lineal, especialmente en años con alta inflación como 2022, donde incluso se evidencia una ligera caída real.\n",
    "\n",
    "A pesar de esas fluctuaciones, el análisis muestra que el salario mínimo no solo ha crecido en términos nominales, sino también reales, manteniéndose por encima del nivel de poder adquisitivo del año base (1999). Esto sugiere una mejora sostenida del ingreso mínimo en términos de capacidad de compra, a lo largo del tiempo.\n",
    "\n",
    "Sin embargo, este crecimiento real ha sido posible solo porque los aumentos salariales en ciertos años superaron ampliamente la inflación acumulada. De ahí la importancia de analizar ambas variables en conjunto para evaluar el impacto económico real sobre los trabajadores."
   ]
  },
  {
   "cell_type": "markdown",
   "id": "4eb0863a-c6e8-4809-ae76-be0258607da5",
   "metadata": {},
   "source": [
    "# 🧾 Conclusión general del análisis\n",
    "\n",
    "A través de este estudio, se analizó la evolución del **salario mínimo mensual en España** desde 1999 hasta 2025 en relación con la **inflación anual acumulada**, con el objetivo de evaluar si los aumentos salariales representaron una mejora real en el poder adquisitivo de los trabajadores.\n",
    "\n",
    "El análisis mostró que, si bien la inflación ha tenido una evolución volátil a lo largo de los años, el salario mínimo ha mantenido una **tendencia creciente sostenida**, especialmente a partir del año **2019**, donde se evidenciaron incrementos significativos por encima de la inflación.\n",
    "\n",
    "En términos acumulados, el salario mínimo aumentó un **183,94%**, mientras que la inflación en el mismo período fue del **87,69%**. Esto indica que, en líneas generales, el salario mínimo **superó el crecimiento de los precios y, por lo tanto, se tradujo en una mejora del poder adquisitivo real**.\n",
    "\n",
    "El cálculo del **salario mínimo real** confirmó esta tendencia positiva, aunque también evidenció momentos puntuales (como en 2022) en los que la alta inflación redujo temporalmente la capacidad de compra.\n",
    "\n",
    "En conclusión, este análisis aporta evidencia cuantitativa de una **política salarial activa en favor de los trabajadores con ingresos más bajos**, lo cual representa un avance significativo desde el punto de vista económico y social."
   ]
  }
 ],
 "metadata": {
  "kernelspec": {
   "display_name": "Python 3 (ipykernel)",
   "language": "python",
   "name": "python3"
  },
  "language_info": {
   "codemirror_mode": {
    "name": "ipython",
    "version": 3
   },
   "file_extension": ".py",
   "mimetype": "text/x-python",
   "name": "python",
   "nbconvert_exporter": "python",
   "pygments_lexer": "ipython3",
   "version": "3.13.3"
  }
 },
 "nbformat": 4,
 "nbformat_minor": 5
}
